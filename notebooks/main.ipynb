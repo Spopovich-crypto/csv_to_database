{
 "cells": [
  {
   "cell_type": "code",
   "execution_count": 1,
   "id": "e6b501b9",
   "metadata": {},
   "outputs": [],
   "source": [
    "from pathlib import Path"
   ]
  },
  {
   "cell_type": "code",
   "execution_count": null,
   "id": "d8e91c82",
   "metadata": {},
   "outputs": [],
   "source": [
    "def search_csv_file(target_path: Path, file_name_pattern: list[str]) -> list[Path]:\n",
    "    target_csv_files = []\n",
    "\n",
    "    csv_files = target_path.rglob(\"*.csv\")\n",
    "\n",
    "    if not csv_files:\n",
    "        print(f\"No CSV files found in {target_path}\")\n",
    "        return target_csv_files\n",
    "    if len(file_name_pattern) == 0:\n",
    "        target_csv_files = list(csv_files)\n",
    "        return target_csv_files\n",
    "    else:\n",
    "        for cscv_file in csv_files:\n",
    "            if any(pat in cscv_file.name for pat in file_name_pattern):\n",
    "                target_csv_files.append(cscv_file)\n",
    "        return target_csv_files\n",
    "\n",
    "    "
   ]
  }
 ],
 "metadata": {
  "kernelspec": {
   "display_name": ".venv",
   "language": "python",
   "name": "python3"
  },
  "language_info": {
   "codemirror_mode": {
    "name": "ipython",
    "version": 3
   },
   "file_extension": ".py",
   "mimetype": "text/x-python",
   "name": "python",
   "nbconvert_exporter": "python",
   "pygments_lexer": "ipython3",
   "version": "3.11.11"
  }
 },
 "nbformat": 4,
 "nbformat_minor": 5
}
